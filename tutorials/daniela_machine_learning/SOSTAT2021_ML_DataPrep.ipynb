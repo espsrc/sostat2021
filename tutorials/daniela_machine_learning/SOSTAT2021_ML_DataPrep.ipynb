{
 "cells": [
  {
   "cell_type": "markdown",
   "id": "0fe7a45f",
   "metadata": {},
   "source": [
    "# Data Preparation for the SOSTAT 2021 Tutorials\n",
    "\n",
    "\n",
    "## Imports"
   ]
  },
  {
   "cell_type": "code",
   "execution_count": 1,
   "id": "4a0bf28b",
   "metadata": {},
   "outputs": [],
   "source": [
    "# make plots interactive and import plotting functionality\n",
    "%matplotlib notebook\n",
    "import matplotlib.pyplot as plt\n",
    "\n",
    "# pretty plotting\n",
    "import seaborn as sns\n",
    "\n",
    "# my standard styles for plots\n",
    "sns.set_style(\"whitegrid\")\n",
    "sns.set_context(\"talk\")\n",
    "\n",
    "# Always need numpy\n",
    "import numpy as np\n",
    "\n",
    "# data array operations\n",
    "import pandas as pd"
   ]
  },
  {
   "cell_type": "code",
   "execution_count": 2,
   "id": "fb5a69c0",
   "metadata": {},
   "outputs": [],
   "source": [
    "from astroquery.sdss import SDSS"
   ]
  },
  {
   "cell_type": "code",
   "execution_count": 4,
   "id": "83f64eea",
   "metadata": {},
   "outputs": [],
   "source": [
    "stars = SDSS.query_sql(\"\"\"SELECT * from (SELECT top 50000\n",
    "objid, ra, dec, psfmag_u-extinction_u AS mag_u,\n",
    "psfmag_g-extinction_g AS mag_g, psfmag_r-extinction_r AS mag_r, psfmag_i-extinction_i AS mag_i,psfmag_z-extinction_z AS mag_z,z AS spec_z,dered_u - dered_g AS u_g_color, \n",
    "dered_g - dered_r AS g_r_color,dered_r - dered_i AS r_i_color,dered_i - dered_z AS i_z_color,class\n",
    "FROM SpecPhoto \n",
    "WHERE \n",
    " (class = 'STAR')\n",
    " ) as sp\n",
    "\"\"\")"
   ]
  },
  {
   "cell_type": "code",
   "execution_count": 5,
   "id": "a4b3b835",
   "metadata": {},
   "outputs": [],
   "source": [
    "galaxies = SDSS.query_sql(\"\"\"SELECT * from (SELECT top 50000\n",
    "objid, ra, dec, psfmag_u-extinction_u AS mag_u,\n",
    "psfmag_g-extinction_g AS mag_g, psfmag_r-extinction_r AS mag_r, psfmag_i-extinction_i AS mag_i,psfmag_z-extinction_z AS mag_z,z AS spec_z,dered_u - dered_g AS u_g_color, \n",
    "dered_g - dered_r AS g_r_color,dered_r - dered_i AS r_i_color,dered_i - dered_z AS i_z_color,class\n",
    "FROM SpecPhoto \n",
    "WHERE \n",
    " (class = 'GALAXY')\n",
    " ) as sp\n",
    "\"\"\")"
   ]
  },
  {
   "cell_type": "code",
   "execution_count": 6,
   "id": "3e084dbb",
   "metadata": {},
   "outputs": [],
   "source": [
    "stars = stars.to_pandas()\n",
    "stars[\"class\"] = np.array(stars[\"class\"], dtype=str)\n"
   ]
  },
  {
   "cell_type": "code",
   "execution_count": 7,
   "id": "9cdc016e",
   "metadata": {},
   "outputs": [],
   "source": [
    "galaxies = galaxies.to_pandas()\n",
    "galaxies[\"class\"] = np.array(galaxies[\"class\"], dtype=str)\n"
   ]
  },
  {
   "cell_type": "code",
   "execution_count": 9,
   "id": "582dc3cb",
   "metadata": {},
   "outputs": [],
   "source": [
    "comb = pd.concat([stars[:10000], galaxies[:10000]])"
   ]
  },
  {
   "cell_type": "code",
   "execution_count": 11,
   "id": "4c8c28b4",
   "metadata": {},
   "outputs": [
    {
     "data": {
      "text/html": [
       "<div>\n",
       "<style scoped>\n",
       "    .dataframe tbody tr th:only-of-type {\n",
       "        vertical-align: middle;\n",
       "    }\n",
       "\n",
       "    .dataframe tbody tr th {\n",
       "        vertical-align: top;\n",
       "    }\n",
       "\n",
       "    .dataframe thead th {\n",
       "        text-align: right;\n",
       "    }\n",
       "</style>\n",
       "<table border=\"1\" class=\"dataframe\">\n",
       "  <thead>\n",
       "    <tr style=\"text-align: right;\">\n",
       "      <th></th>\n",
       "      <th>objid</th>\n",
       "      <th>ra</th>\n",
       "      <th>dec</th>\n",
       "      <th>mag_u</th>\n",
       "      <th>mag_g</th>\n",
       "      <th>mag_r</th>\n",
       "      <th>mag_i</th>\n",
       "      <th>mag_z</th>\n",
       "      <th>spec_z</th>\n",
       "      <th>u_g_color</th>\n",
       "      <th>g_r_color</th>\n",
       "      <th>r_i_color</th>\n",
       "      <th>i_z_color</th>\n",
       "      <th>class</th>\n",
       "    </tr>\n",
       "  </thead>\n",
       "  <tbody>\n",
       "    <tr>\n",
       "      <th>0</th>\n",
       "      <td>1237655499736023309</td>\n",
       "      <td>198.75865</td>\n",
       "      <td>-1.661133</td>\n",
       "      <td>19.28792</td>\n",
       "      <td>17.36450</td>\n",
       "      <td>16.65784</td>\n",
       "      <td>16.41547</td>\n",
       "      <td>16.26836</td>\n",
       "      <td>0.000057</td>\n",
       "      <td>1.881269</td>\n",
       "      <td>0.760563</td>\n",
       "      <td>0.201073</td>\n",
       "      <td>0.206329</td>\n",
       "      <td>STAR</td>\n",
       "    </tr>\n",
       "    <tr>\n",
       "      <th>1</th>\n",
       "      <td>1237655495977468550</td>\n",
       "      <td>198.69212</td>\n",
       "      <td>-1.551051</td>\n",
       "      <td>23.98161</td>\n",
       "      <td>21.48122</td>\n",
       "      <td>20.69408</td>\n",
       "      <td>19.68314</td>\n",
       "      <td>19.05251</td>\n",
       "      <td>-0.000028</td>\n",
       "      <td>2.914644</td>\n",
       "      <td>0.825191</td>\n",
       "      <td>0.962955</td>\n",
       "      <td>0.646452</td>\n",
       "      <td>STAR</td>\n",
       "    </tr>\n",
       "    <tr>\n",
       "      <th>2</th>\n",
       "      <td>1237655495977533617</td>\n",
       "      <td>198.86527</td>\n",
       "      <td>-1.521170</td>\n",
       "      <td>18.74677</td>\n",
       "      <td>17.72853</td>\n",
       "      <td>17.71136</td>\n",
       "      <td>17.71290</td>\n",
       "      <td>17.87158</td>\n",
       "      <td>0.000351</td>\n",
       "      <td>1.020382</td>\n",
       "      <td>0.024298</td>\n",
       "      <td>-0.013058</td>\n",
       "      <td>-0.148605</td>\n",
       "      <td>STAR</td>\n",
       "    </tr>\n",
       "    <tr>\n",
       "      <th>3</th>\n",
       "      <td>1237655495977533557</td>\n",
       "      <td>198.79422</td>\n",
       "      <td>-1.477119</td>\n",
       "      <td>19.93713</td>\n",
       "      <td>18.80160</td>\n",
       "      <td>18.82963</td>\n",
       "      <td>18.94912</td>\n",
       "      <td>19.04007</td>\n",
       "      <td>0.000199</td>\n",
       "      <td>1.160055</td>\n",
       "      <td>-0.032026</td>\n",
       "      <td>-0.119993</td>\n",
       "      <td>-0.069441</td>\n",
       "      <td>STAR</td>\n",
       "    </tr>\n",
       "    <tr>\n",
       "      <th>4</th>\n",
       "      <td>1237655495977533571</td>\n",
       "      <td>198.80730</td>\n",
       "      <td>-1.448024</td>\n",
       "      <td>19.15370</td>\n",
       "      <td>19.34383</td>\n",
       "      <td>19.69506</td>\n",
       "      <td>19.96842</td>\n",
       "      <td>20.05856</td>\n",
       "      <td>-0.000006</td>\n",
       "      <td>-0.200451</td>\n",
       "      <td>-0.347111</td>\n",
       "      <td>-0.271725</td>\n",
       "      <td>-0.108460</td>\n",
       "      <td>STAR</td>\n",
       "    </tr>\n",
       "  </tbody>\n",
       "</table>\n",
       "</div>"
      ],
      "text/plain": [
       "                 objid         ra       dec     mag_u     mag_g     mag_r  \\\n",
       "0  1237655499736023309  198.75865 -1.661133  19.28792  17.36450  16.65784   \n",
       "1  1237655495977468550  198.69212 -1.551051  23.98161  21.48122  20.69408   \n",
       "2  1237655495977533617  198.86527 -1.521170  18.74677  17.72853  17.71136   \n",
       "3  1237655495977533557  198.79422 -1.477119  19.93713  18.80160  18.82963   \n",
       "4  1237655495977533571  198.80730 -1.448024  19.15370  19.34383  19.69506   \n",
       "\n",
       "      mag_i     mag_z    spec_z  u_g_color  g_r_color  r_i_color  i_z_color  \\\n",
       "0  16.41547  16.26836  0.000057   1.881269   0.760563   0.201073   0.206329   \n",
       "1  19.68314  19.05251 -0.000028   2.914644   0.825191   0.962955   0.646452   \n",
       "2  17.71290  17.87158  0.000351   1.020382   0.024298  -0.013058  -0.148605   \n",
       "3  18.94912  19.04007  0.000199   1.160055  -0.032026  -0.119993  -0.069441   \n",
       "4  19.96842  20.05856 -0.000006  -0.200451  -0.347111  -0.271725  -0.108460   \n",
       "\n",
       "  class  \n",
       "0  STAR  \n",
       "1  STAR  \n",
       "2  STAR  \n",
       "3  STAR  \n",
       "4  STAR  "
      ]
     },
     "execution_count": 11,
     "metadata": {},
     "output_type": "execute_result"
    }
   ],
   "source": [
    "comb.head()"
   ]
  },
  {
   "cell_type": "code",
   "execution_count": 12,
   "id": "267f77d0",
   "metadata": {},
   "outputs": [],
   "source": [
    "comb.to_csv(\"sdss_dataset1.csv\", index=False)"
   ]
  },
  {
   "cell_type": "markdown",
   "id": "1e556392",
   "metadata": {},
   "source": [
    "Let's also generate a shared test set:"
   ]
  },
  {
   "cell_type": "code",
   "execution_count": 13,
   "id": "cd2a49a8",
   "metadata": {},
   "outputs": [],
   "source": [
    "test_set = pd.concat([stars[-1000:], galaxies[-1000:]])"
   ]
  },
  {
   "cell_type": "code",
   "execution_count": 14,
   "id": "09680bdc",
   "metadata": {},
   "outputs": [],
   "source": [
    "test_set = test_set.sample(frac=1, replace=False).reset_index(drop=True)"
   ]
  },
  {
   "cell_type": "code",
   "execution_count": 15,
   "id": "5384a478",
   "metadata": {},
   "outputs": [
    {
     "data": {
      "text/html": [
       "<div>\n",
       "<style scoped>\n",
       "    .dataframe tbody tr th:only-of-type {\n",
       "        vertical-align: middle;\n",
       "    }\n",
       "\n",
       "    .dataframe tbody tr th {\n",
       "        vertical-align: top;\n",
       "    }\n",
       "\n",
       "    .dataframe thead th {\n",
       "        text-align: right;\n",
       "    }\n",
       "</style>\n",
       "<table border=\"1\" class=\"dataframe\">\n",
       "  <thead>\n",
       "    <tr style=\"text-align: right;\">\n",
       "      <th></th>\n",
       "      <th>objid</th>\n",
       "      <th>ra</th>\n",
       "      <th>dec</th>\n",
       "      <th>mag_u</th>\n",
       "      <th>mag_g</th>\n",
       "      <th>mag_r</th>\n",
       "      <th>mag_i</th>\n",
       "      <th>mag_z</th>\n",
       "      <th>spec_z</th>\n",
       "      <th>u_g_color</th>\n",
       "      <th>g_r_color</th>\n",
       "      <th>r_i_color</th>\n",
       "      <th>i_z_color</th>\n",
       "      <th>class</th>\n",
       "    </tr>\n",
       "  </thead>\n",
       "  <tbody>\n",
       "    <tr>\n",
       "      <th>0</th>\n",
       "      <td>1237663783131218107</td>\n",
       "      <td>17.248432</td>\n",
       "      <td>-0.797119</td>\n",
       "      <td>21.42727</td>\n",
       "      <td>19.90164</td>\n",
       "      <td>19.43197</td>\n",
       "      <td>19.11375</td>\n",
       "      <td>18.58033</td>\n",
       "      <td>0.070120</td>\n",
       "      <td>1.750055</td>\n",
       "      <td>0.689732</td>\n",
       "      <td>0.371883</td>\n",
       "      <td>0.276276</td>\n",
       "      <td>GALAXY</td>\n",
       "    </tr>\n",
       "    <tr>\n",
       "      <th>1</th>\n",
       "      <td>1237678619567456496</td>\n",
       "      <td>4.893126</td>\n",
       "      <td>3.080620</td>\n",
       "      <td>22.26391</td>\n",
       "      <td>20.24837</td>\n",
       "      <td>18.86897</td>\n",
       "      <td>18.37562</td>\n",
       "      <td>17.88331</td>\n",
       "      <td>0.261890</td>\n",
       "      <td>1.931644</td>\n",
       "      <td>1.464487</td>\n",
       "      <td>0.524101</td>\n",
       "      <td>0.353077</td>\n",
       "      <td>GALAXY</td>\n",
       "    </tr>\n",
       "    <tr>\n",
       "      <th>2</th>\n",
       "      <td>1237656496174465529</td>\n",
       "      <td>329.603470</td>\n",
       "      <td>12.778041</td>\n",
       "      <td>20.29658</td>\n",
       "      <td>19.84159</td>\n",
       "      <td>18.97170</td>\n",
       "      <td>18.81909</td>\n",
       "      <td>18.79221</td>\n",
       "      <td>-0.001165</td>\n",
       "      <td>0.446840</td>\n",
       "      <td>0.868786</td>\n",
       "      <td>0.158445</td>\n",
       "      <td>0.017855</td>\n",
       "      <td>STAR</td>\n",
       "    </tr>\n",
       "    <tr>\n",
       "      <th>3</th>\n",
       "      <td>1237648702984290760</td>\n",
       "      <td>224.052880</td>\n",
       "      <td>-1.164559</td>\n",
       "      <td>20.30576</td>\n",
       "      <td>20.06680</td>\n",
       "      <td>20.15494</td>\n",
       "      <td>20.28310</td>\n",
       "      <td>20.48745</td>\n",
       "      <td>0.000329</td>\n",
       "      <td>0.298674</td>\n",
       "      <td>-0.114965</td>\n",
       "      <td>-0.123354</td>\n",
       "      <td>-0.245233</td>\n",
       "      <td>STAR</td>\n",
       "    </tr>\n",
       "    <tr>\n",
       "      <th>4</th>\n",
       "      <td>1237678619567456585</td>\n",
       "      <td>4.898836</td>\n",
       "      <td>3.127932</td>\n",
       "      <td>23.19452</td>\n",
       "      <td>21.11645</td>\n",
       "      <td>19.70312</td>\n",
       "      <td>19.14991</td>\n",
       "      <td>18.73902</td>\n",
       "      <td>0.266051</td>\n",
       "      <td>2.203650</td>\n",
       "      <td>1.469276</td>\n",
       "      <td>0.557816</td>\n",
       "      <td>0.320986</td>\n",
       "      <td>GALAXY</td>\n",
       "    </tr>\n",
       "  </tbody>\n",
       "</table>\n",
       "</div>"
      ],
      "text/plain": [
       "                 objid          ra        dec     mag_u     mag_g     mag_r  \\\n",
       "0  1237663783131218107   17.248432  -0.797119  21.42727  19.90164  19.43197   \n",
       "1  1237678619567456496    4.893126   3.080620  22.26391  20.24837  18.86897   \n",
       "2  1237656496174465529  329.603470  12.778041  20.29658  19.84159  18.97170   \n",
       "3  1237648702984290760  224.052880  -1.164559  20.30576  20.06680  20.15494   \n",
       "4  1237678619567456585    4.898836   3.127932  23.19452  21.11645  19.70312   \n",
       "\n",
       "      mag_i     mag_z    spec_z  u_g_color  g_r_color  r_i_color  i_z_color  \\\n",
       "0  19.11375  18.58033  0.070120   1.750055   0.689732   0.371883   0.276276   \n",
       "1  18.37562  17.88331  0.261890   1.931644   1.464487   0.524101   0.353077   \n",
       "2  18.81909  18.79221 -0.001165   0.446840   0.868786   0.158445   0.017855   \n",
       "3  20.28310  20.48745  0.000329   0.298674  -0.114965  -0.123354  -0.245233   \n",
       "4  19.14991  18.73902  0.266051   2.203650   1.469276   0.557816   0.320986   \n",
       "\n",
       "    class  \n",
       "0  GALAXY  \n",
       "1  GALAXY  \n",
       "2    STAR  \n",
       "3    STAR  \n",
       "4  GALAXY  "
      ]
     },
     "execution_count": 15,
     "metadata": {},
     "output_type": "execute_result"
    }
   ],
   "source": [
    "test_set.head()"
   ]
  },
  {
   "cell_type": "code",
   "execution_count": 16,
   "id": "37cfd49f",
   "metadata": {},
   "outputs": [],
   "source": [
    "test_set.to_csv(\"sdss_testset1.csv\")"
   ]
  },
  {
   "cell_type": "markdown",
   "id": "f0aa5f58",
   "metadata": {},
   "source": [
    "## Neural Network Data"
   ]
  },
  {
   "cell_type": "code",
   "execution_count": 17,
   "id": "cd4cd28f",
   "metadata": {},
   "outputs": [],
   "source": [
    "from astroML.datasets import fetch_sdss_galaxy_colors"
   ]
  },
  {
   "cell_type": "code",
   "execution_count": 25,
   "id": "d40f4153",
   "metadata": {},
   "outputs": [],
   "source": [
    "NOBJECTS = 50000"
   ]
  },
  {
   "cell_type": "code",
   "execution_count": 31,
   "id": "96d1f4a2",
   "metadata": {},
   "outputs": [],
   "source": [
    "query_text = ('\\n'.join((\"SELECT TOP %i\" % NOBJECTS,\n",
    "                         \"  p.u, p.g, p.r, p.i, p.z, s.class, s.z AS redshift, s.zerr AS redshift_err\",\n",
    "                         \"FROM PhotoObj AS p\",\n",
    "                         \"  JOIN SpecObj AS s ON s.bestobjid = p.objid\",\n",
    "                         \"WHERE \",\n",
    "                         \"  p.u BETWEEN 0 AND 19.6\",\n",
    "                         \"  AND p.g BETWEEN 0 AND 20\",\n",
    "                         \"  AND s.class <> 'UNKNOWN'\",\n",
    "                         \"  AND s.class <> 'STAR'\",\n",
    "                         \"  AND s.class <> 'SKY'\",\n",
    "                         \"  AND s.class <> 'STAR_LATE'\")))\n",
    "\n"
   ]
  },
  {
   "cell_type": "code",
   "execution_count": 32,
   "id": "9d13680b",
   "metadata": {},
   "outputs": [
    {
     "name": "stderr",
     "output_type": "stream",
     "text": [
      "/astro/users/dhuppenk/.conda/envs/pytorch/lib/python3.8/site-packages/astroquery/sdss/core.py:862: VisibleDeprecationWarning: Reading unicode strings without specifying the encoding argument is deprecated. Set the encoding, use None for the system default.\n",
      "  arr = np.atleast_1d(np.genfromtxt(io.BytesIO(response.content),\n"
     ]
    }
   ],
   "source": [
    "data = SDSS.query_sql(query_text)"
   ]
  },
  {
   "cell_type": "code",
   "execution_count": 34,
   "id": "9d86ff70",
   "metadata": {},
   "outputs": [],
   "source": [
    "data = data.to_pandas()\n",
    "data[\"class\"] = np.array(data[\"class\"], dtype=str)\n",
    "\n",
    "\n"
   ]
  },
  {
   "cell_type": "code",
   "execution_count": 35,
   "id": "df40c23a",
   "metadata": {},
   "outputs": [
    {
     "data": {
      "text/plain": [
       "(50000, 8)"
      ]
     },
     "execution_count": 35,
     "metadata": {},
     "output_type": "execute_result"
    }
   ],
   "source": [
    "data.shape"
   ]
  },
  {
   "cell_type": "code",
   "execution_count": 30,
   "id": "fb58970e",
   "metadata": {},
   "outputs": [
    {
     "data": {
      "text/html": [
       "<div>\n",
       "<style scoped>\n",
       "    .dataframe tbody tr th:only-of-type {\n",
       "        vertical-align: middle;\n",
       "    }\n",
       "\n",
       "    .dataframe tbody tr th {\n",
       "        vertical-align: top;\n",
       "    }\n",
       "\n",
       "    .dataframe thead th {\n",
       "        text-align: right;\n",
       "    }\n",
       "</style>\n",
       "<table border=\"1\" class=\"dataframe\">\n",
       "  <thead>\n",
       "    <tr style=\"text-align: right;\">\n",
       "      <th></th>\n",
       "      <th>u</th>\n",
       "      <th>g</th>\n",
       "      <th>r</th>\n",
       "      <th>i</th>\n",
       "      <th>z</th>\n",
       "      <th>class</th>\n",
       "      <th>z1</th>\n",
       "      <th>zerr</th>\n",
       "    </tr>\n",
       "  </thead>\n",
       "  <tbody>\n",
       "    <tr>\n",
       "      <th>0</th>\n",
       "      <td>16.46322</td>\n",
       "      <td>15.49256</td>\n",
       "      <td>15.14610</td>\n",
       "      <td>15.00817</td>\n",
       "      <td>14.83415</td>\n",
       "      <td>GALAXY</td>\n",
       "      <td>0.012641</td>\n",
       "      <td>0.000006</td>\n",
       "    </tr>\n",
       "    <tr>\n",
       "      <th>1</th>\n",
       "      <td>17.23730</td>\n",
       "      <td>15.65943</td>\n",
       "      <td>14.76368</td>\n",
       "      <td>14.32308</td>\n",
       "      <td>13.97611</td>\n",
       "      <td>GALAXY</td>\n",
       "      <td>0.086139</td>\n",
       "      <td>0.000017</td>\n",
       "    </tr>\n",
       "    <tr>\n",
       "      <th>2</th>\n",
       "      <td>19.26072</td>\n",
       "      <td>17.97265</td>\n",
       "      <td>17.27236</td>\n",
       "      <td>16.88940</td>\n",
       "      <td>16.65260</td>\n",
       "      <td>GALAXY</td>\n",
       "      <td>0.103297</td>\n",
       "      <td>0.000021</td>\n",
       "    </tr>\n",
       "    <tr>\n",
       "      <th>3</th>\n",
       "      <td>18.87348</td>\n",
       "      <td>17.84478</td>\n",
       "      <td>17.35933</td>\n",
       "      <td>17.11581</td>\n",
       "      <td>16.95407</td>\n",
       "      <td>GALAXY</td>\n",
       "      <td>0.076046</td>\n",
       "      <td>0.000010</td>\n",
       "    </tr>\n",
       "    <tr>\n",
       "      <th>4</th>\n",
       "      <td>18.88721</td>\n",
       "      <td>17.34640</td>\n",
       "      <td>16.52588</td>\n",
       "      <td>16.08977</td>\n",
       "      <td>15.78733</td>\n",
       "      <td>GALAXY</td>\n",
       "      <td>0.075763</td>\n",
       "      <td>0.000009</td>\n",
       "    </tr>\n",
       "  </tbody>\n",
       "</table>\n",
       "</div>"
      ],
      "text/plain": [
       "          u         g         r         i         z   class        z1  \\\n",
       "0  16.46322  15.49256  15.14610  15.00817  14.83415  GALAXY  0.012641   \n",
       "1  17.23730  15.65943  14.76368  14.32308  13.97611  GALAXY  0.086139   \n",
       "2  19.26072  17.97265  17.27236  16.88940  16.65260  GALAXY  0.103297   \n",
       "3  18.87348  17.84478  17.35933  17.11581  16.95407  GALAXY  0.076046   \n",
       "4  18.88721  17.34640  16.52588  16.08977  15.78733  GALAXY  0.075763   \n",
       "\n",
       "       zerr  \n",
       "0  0.000006  \n",
       "1  0.000017  \n",
       "2  0.000021  \n",
       "3  0.000010  \n",
       "4  0.000009  "
      ]
     },
     "execution_count": 30,
     "metadata": {},
     "output_type": "execute_result"
    }
   ],
   "source": [
    "data.head()"
   ]
  },
  {
   "cell_type": "code",
   "execution_count": 36,
   "id": "c34b7de6",
   "metadata": {},
   "outputs": [],
   "source": [
    "training_data = data[:20000]\n",
    "\n",
    "test_data = data[-4000:]"
   ]
  },
  {
   "cell_type": "code",
   "execution_count": 37,
   "id": "f8fb390d",
   "metadata": {},
   "outputs": [
    {
     "data": {
      "text/plain": [
       "(20000, 8)"
      ]
     },
     "execution_count": 37,
     "metadata": {},
     "output_type": "execute_result"
    }
   ],
   "source": [
    "training_data.shape"
   ]
  },
  {
   "cell_type": "code",
   "execution_count": 38,
   "id": "248bbf3a",
   "metadata": {},
   "outputs": [
    {
     "data": {
      "text/plain": [
       "(4000, 8)"
      ]
     },
     "execution_count": 38,
     "metadata": {},
     "output_type": "execute_result"
    }
   ],
   "source": [
    "test_data.shape"
   ]
  },
  {
   "cell_type": "code",
   "execution_count": 39,
   "id": "3ce1d0ab",
   "metadata": {},
   "outputs": [],
   "source": [
    "training_data.to_csv(\"sdss_dataset2.csv\", index=False)\n",
    "\n",
    "test_data.to_csv(\"sdss_testset2.csv\", index=False)"
   ]
  }
 ],
 "metadata": {
  "kernelspec": {
   "display_name": "Daniela's PyTorch",
   "language": "python",
   "name": "dhuppenk_pytorch"
  },
  "language_info": {
   "codemirror_mode": {
    "name": "ipython",
    "version": 3
   },
   "file_extension": ".py",
   "mimetype": "text/x-python",
   "name": "python",
   "nbconvert_exporter": "python",
   "pygments_lexer": "ipython3",
   "version": "3.8.11"
  }
 },
 "nbformat": 4,
 "nbformat_minor": 5
}
